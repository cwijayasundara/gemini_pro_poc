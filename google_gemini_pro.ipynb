{
  "nbformat": 4,
  "nbformat_minor": 0,
  "metadata": {
    "colab": {
      "provenance": []
    },
    "kernelspec": {
      "name": "python3",
      "display_name": "Python 3"
    },
    "language_info": {
      "name": "python"
    }
  },
  "cells": [
    {
      "cell_type": "code",
      "execution_count": null,
      "metadata": {
        "id": "-93u2IbRVCV1"
      },
      "outputs": [],
      "source": [
        "!pip -q install langchain_experimental langchain_core\n",
        "!pip -q install google-generativeai==0.3.2\n",
        "!pip -q install google-ai-generativelanguage==0.4.1\n",
        "!pip -q install langchain-google-genai\n",
        "!pip -q install \"langchain[docarray]\""
      ]
    },
    {
      "cell_type": "code",
      "source": [
        "import os\n",
        "import google.generativeai as genai\n",
        "\n",
        "os.environ[\"GOOGLE_API_KEY\"] = \"\"\n",
        "genai.configure(api_key=os.environ[\"GOOGLE_API_KEY\"])"
      ],
      "metadata": {
        "id": "ojeYGliUW9S1"
      },
      "execution_count": 3,
      "outputs": []
    },
    {
      "cell_type": "code",
      "source": [
        "from langchain_google_genai import ChatGoogleGenerativeAI\n",
        "from langchain_google_genai import GoogleGenerativeAIEmbeddings\n",
        "from langchain.prompts import ChatPromptTemplate\n",
        "from langchain.schema.output_parser import StrOutputParser\n",
        "\n",
        "model = ChatGoogleGenerativeAI(model=\"gemini-pro\",\n",
        "                             temperature=0.1)\n",
        "prompt = ChatPromptTemplate.from_template(\n",
        "    \"tell me a short joke about {topic}\"\n",
        ")\n",
        "\n",
        "output_parser = StrOutputParser()\n",
        "chain = prompt | model | output_parser\n",
        "chain.invoke({\"topic\": \"machine learning\"})"
      ],
      "metadata": {
        "id": "F-AgIZeYXqUo"
      },
      "execution_count": null,
      "outputs": []
    }
  ]
}